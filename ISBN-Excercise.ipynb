{
 "cells": [
  {
   "cell_type": "code",
   "execution_count": 1,
   "metadata": {},
   "outputs": [],
   "source": [
    "# ==\n",
    "# iteration string\n",
    "# isdigit\n",
    "# count"
   ]
  },
  {
   "cell_type": "code",
   "execution_count": 2,
   "metadata": {},
   "outputs": [
    {
     "data": {
      "text/plain": [
       "False"
      ]
     },
     "execution_count": 2,
     "metadata": {},
     "output_type": "execute_result"
    }
   ],
   "source": [
    "7 > 8"
   ]
  },
  {
   "cell_type": "code",
   "execution_count": 4,
   "metadata": {},
   "outputs": [
    {
     "data": {
      "text/plain": [
       "True"
      ]
     },
     "execution_count": 4,
     "metadata": {},
     "output_type": "execute_result"
    }
   ],
   "source": [
    "5 == 5"
   ]
  },
  {
   "cell_type": "code",
   "execution_count": 5,
   "metadata": {},
   "outputs": [],
   "source": [
    "mein_text = \"das ist ein tollter Text\""
   ]
  },
  {
   "cell_type": "code",
   "execution_count": 6,
   "metadata": {},
   "outputs": [
    {
     "name": "stdout",
     "output_type": "stream",
     "text": [
      "d\n",
      "a\n",
      "s\n",
      " \n",
      "i\n",
      "s\n",
      "t\n",
      " \n",
      "e\n",
      "i\n",
      "n\n",
      " \n",
      "t\n",
      "o\n",
      "l\n",
      "l\n",
      "t\n",
      "e\n",
      "r\n",
      " \n",
      "T\n",
      "e\n",
      "x\n",
      "t\n"
     ]
    }
   ],
   "source": [
    "for buchstabe in mein_text:\n",
    "    print(buchstabe)"
   ]
  },
  {
   "cell_type": "code",
   "execution_count": 7,
   "metadata": {},
   "outputs": [],
   "source": [
    "my_char = \"5\""
   ]
  },
  {
   "cell_type": "code",
   "execution_count": 8,
   "metadata": {},
   "outputs": [
    {
     "data": {
      "text/plain": [
       "True"
      ]
     },
     "execution_count": 8,
     "metadata": {},
     "output_type": "execute_result"
    }
   ],
   "source": [
    "my_char.isdigit()"
   ]
  },
  {
   "cell_type": "code",
   "execution_count": 9,
   "metadata": {},
   "outputs": [],
   "source": [
    "non_digit_char = \"aAAAA\""
   ]
  },
  {
   "cell_type": "code",
   "execution_count": 10,
   "metadata": {},
   "outputs": [
    {
     "data": {
      "text/plain": [
       "False"
      ]
     },
     "execution_count": 10,
     "metadata": {},
     "output_type": "execute_result"
    }
   ],
   "source": [
    "non_digit_char.isdigit()"
   ]
  },
  {
   "cell_type": "code",
   "execution_count": 11,
   "metadata": {},
   "outputs": [
    {
     "data": {
      "text/plain": [
       "4"
      ]
     },
     "execution_count": 11,
     "metadata": {},
     "output_type": "execute_result"
    }
   ],
   "source": [
    "non_digit_char.count(\"A\")"
   ]
  },
  {
   "cell_type": "code",
   "execution_count": 22,
   "metadata": {},
   "outputs": [
    {
     "name": "stdout",
     "output_type": "stream",
     "text": [
      "True\n",
      "-------\n",
      "False\n",
      "-------\n",
      "False\n"
     ]
    }
   ],
   "source": [
    "def is_isbn(isbn):\n",
    "    if len(isbn) != 17:\n",
    "        return False\n",
    "    if isbn.count(\"-\") != 4:\n",
    "        return False\n",
    "    for char in isbn:\n",
    "        # print(char)\n",
    "        if char == \"-\":\n",
    "            continue\n",
    "        if not char.isdigit():\n",
    "            return False\n",
    "    return True\n",
    "    \n",
    "my_isbn = \"978-3-86226-468-5\"\n",
    "not_an_isbn = \"AB-423-2343\"\n",
    "not_an_isbn_2 = \"978-3-XXXXX-468-5\"\n",
    "bps1 = \"xsfds\"\n",
    "\n",
    "print(is_isbn(my_isbn))\n",
    "print(\"-------\")\n",
    "print(is_isbn(not_an_isbn))\n",
    "print(\"-------\")\n",
    "print(is_isbn(not_an_isbn_2))\n",
    "print(is_isbn(\"234\"))\n",
    "print(is_isbn(bsp1))"
   ]
  },
  {
   "cell_type": "code",
   "execution_count": null,
   "metadata": {},
   "outputs": [],
   "source": []
  }
 ],
 "metadata": {
  "kernelspec": {
   "display_name": "Python 3",
   "language": "python",
   "name": "python3"
  },
  "language_info": {
   "codemirror_mode": {
    "name": "ipython",
    "version": 3
   },
   "file_extension": ".py",
   "mimetype": "text/x-python",
   "name": "python",
   "nbconvert_exporter": "python",
   "pygments_lexer": "ipython3",
   "version": "3.6.4"
  }
 },
 "nbformat": 4,
 "nbformat_minor": 2
}
